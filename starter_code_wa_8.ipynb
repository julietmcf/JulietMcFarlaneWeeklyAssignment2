{
 "cells": [
  {
   "cell_type": "code",
   "execution_count": 1,
   "metadata": {},
   "outputs": [],
   "source": [
    "import csv\n",
    "\n",
    "def make_data_point(line, header):\n",
    "    output = {}\n",
    "    for index, header_item in enumerate(header):\n",
    "        output[header_item] = line[index]\n",
    "    return output\n",
    "\n",
    "with open(\"denver-1.nov.csv\") as inf:\n",
    "    reader = csv.reader(inf)\n",
    "    header = next(reader)\n",
    "    all_data = []\n",
    "    for line in reader:\n",
    "        all_data.append(make_data_point(line, header))"
   ]
  },
  {
   "cell_type": "code",
   "execution_count": 5,
   "metadata": {},
   "outputs": [],
   "source": [
    "from collections import defaultdict\n",
    "\n",
    "# this stores a dictionary mapping each precinct to a list of data\n",
    "# from that precinct\n",
    "byprecinct = defaultdict(list)  \n",
    "for line in all_data:\n",
    "    byprecinct[line[\"precinct\"]].append(line)\n",
    "    \n",
    "    \n",
    "from collections import Counter"
   ]
  },
  {
   "cell_type": "code",
   "execution_count": 15,
   "metadata": {},
   "outputs": [],
   "source": [
    "citation_precinct_counter = {}\n",
    "for precinct in byprecinct:\n",
    "    data_for_precinct = byprecinct[precinct]\n",
    "    citations = 0\n",
    "    for stop in data_for_precinct:\n",
    "        if stop['citation_issued'] == \"TRUE\":\n",
    "            citations += 1\n",
    "    citation_precinct_counter[precinct] = citations"
   ]
  },
  {
   "cell_type": "code",
   "execution_count": 16,
   "metadata": {},
   "outputs": [
    {
     "data": {
      "text/plain": [
       "{'423': 17,\n",
       " '324': 26,\n",
       " 'None': 16,\n",
       " '323': 27,\n",
       " '314': 19,\n",
       " '422': 40,\n",
       " '421': 40,\n",
       " '313': 39,\n",
       " '322': 28,\n",
       " '312': 59,\n",
       " '412': 38,\n",
       " '311': 49,\n",
       " '411': 46,\n",
       " '321': 9,\n",
       " '122': 26,\n",
       " '213': 35,\n",
       " '123': 26,\n",
       " '623': 13,\n",
       " '622': 10,\n",
       " '223': 60,\n",
       " '611': 23,\n",
       " '222': 28,\n",
       " '621': 26,\n",
       " '121': 36,\n",
       " '612': 12,\n",
       " '211': 24,\n",
       " '221': 28,\n",
       " '113': 30,\n",
       " '512': 20,\n",
       " '212': 34,\n",
       " '112': 36,\n",
       " '111': 53,\n",
       " '523': 11,\n",
       " '521': 39,\n",
       " '522': 11,\n",
       " '511': 30,\n",
       " '759': 1}"
      ]
     },
     "execution_count": 16,
     "metadata": {},
     "output_type": "execute_result"
    }
   ],
   "source": [
    "citation_precinct_counter"
   ]
  },
  {
   "cell_type": "markdown",
   "metadata": {},
   "source": [
    "This code is analyzing the amount of citations issued. I iterated through the information in the csv and counted up all of the citations issued as \"True.\" I filtered the data so that it reviewed only citations issued and then summed up the totals for each amount."
   ]
  },
  {
   "cell_type": "code",
   "execution_count": null,
   "metadata": {},
   "outputs": [],
   "source": []
  }
 ],
 "metadata": {
  "kernelspec": {
   "display_name": "Python 3",
   "language": "python",
   "name": "python3"
  },
  "language_info": {
   "codemirror_mode": {
    "name": "ipython",
    "version": 3
   },
   "file_extension": ".py",
   "mimetype": "text/x-python",
   "name": "python",
   "nbconvert_exporter": "python",
   "pygments_lexer": "ipython3",
   "version": "3.7.9"
  }
 },
 "nbformat": 4,
 "nbformat_minor": 4
}
